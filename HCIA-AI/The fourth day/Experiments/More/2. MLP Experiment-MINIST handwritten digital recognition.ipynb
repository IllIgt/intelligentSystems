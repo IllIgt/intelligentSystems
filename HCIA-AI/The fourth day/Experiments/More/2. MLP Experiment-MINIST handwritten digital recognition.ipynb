{
 "cells": [
  {
   "cell_type": "markdown",
   "metadata": {},
   "source": [
    "## 2.1 MNIST handwritten digital recognition\n",
    "MNIST data[Click and View](http://yann.lecun.com/exdb/mnist/)"
   ]
  },
  {
   "cell_type": "code",
   "execution_count": 1,
   "metadata": {},
   "outputs": [],
   "source": [
    "import numpy as np\n",
    "import tensorflow as tf\n",
    "from tensorflow.examples.tutorials.mnist import input_data\n",
    "import time"
   ]
  },
  {
   "cell_type": "markdown",
   "metadata": {},
   "source": [
    "## 2.2 Input MINIST data"
   ]
  },
  {
   "cell_type": "code",
   "execution_count": 2,
   "metadata": {
    "scrolled": true
   },
   "outputs": [
    {
     "name": "stderr",
     "output_type": "stream",
     "text": [
      "WARNING: Logging before flag parsing goes to stderr.\n",
      "W1012 19:55:49.550260  3520 deprecation.py:323] From <ipython-input-2-b64c65daac89>:1: read_data_sets (from tensorflow.contrib.learn.python.learn.datasets.mnist) is deprecated and will be removed in a future version.\n",
      "Instructions for updating:\n",
      "Please use alternatives such as official/mnist/dataset.py from tensorflow/models.\n",
      "W1012 19:55:49.558255  3520 deprecation.py:323] From D:\\APPs\\Anaconda\\envs\\Jeary_lab\\lib\\site-packages\\tensorflow\\contrib\\learn\\python\\learn\\datasets\\mnist.py:260: maybe_download (from tensorflow.contrib.learn.python.learn.datasets.base) is deprecated and will be removed in a future version.\n",
      "Instructions for updating:\n",
      "Please write your own downloading logic.\n",
      "W1012 19:55:49.560254  3520 deprecation.py:323] From D:\\APPs\\Anaconda\\envs\\Jeary_lab\\lib\\site-packages\\tensorflow\\contrib\\learn\\python\\learn\\datasets\\mnist.py:262: extract_images (from tensorflow.contrib.learn.python.learn.datasets.mnist) is deprecated and will be removed in a future version.\n",
      "Instructions for updating:\n",
      "Please use tf.data to implement this functionality.\n"
     ]
    },
    {
     "name": "stdout",
     "output_type": "stream",
     "text": [
      "Extracting data\\MNIST_data\\train-images-idx3-ubyte.gz\n"
     ]
    },
    {
     "name": "stderr",
     "output_type": "stream",
     "text": [
      "W1012 19:55:49.856845  3520 deprecation.py:323] From D:\\APPs\\Anaconda\\envs\\Jeary_lab\\lib\\site-packages\\tensorflow\\contrib\\learn\\python\\learn\\datasets\\mnist.py:267: extract_labels (from tensorflow.contrib.learn.python.learn.datasets.mnist) is deprecated and will be removed in a future version.\n",
      "Instructions for updating:\n",
      "Please use tf.data to implement this functionality.\n",
      "W1012 19:55:49.860844  3520 deprecation.py:323] From D:\\APPs\\Anaconda\\envs\\Jeary_lab\\lib\\site-packages\\tensorflow\\contrib\\learn\\python\\learn\\datasets\\mnist.py:110: dense_to_one_hot (from tensorflow.contrib.learn.python.learn.datasets.mnist) is deprecated and will be removed in a future version.\n",
      "Instructions for updating:\n",
      "Please use tf.one_hot on tensors.\n",
      "W1012 19:55:49.924899  3520 deprecation.py:323] From D:\\APPs\\Anaconda\\envs\\Jeary_lab\\lib\\site-packages\\tensorflow\\contrib\\learn\\python\\learn\\datasets\\mnist.py:290: DataSet.__init__ (from tensorflow.contrib.learn.python.learn.datasets.mnist) is deprecated and will be removed in a future version.\n",
      "Instructions for updating:\n",
      "Please use alternatives such as official/mnist/dataset.py from tensorflow/models.\n"
     ]
    },
    {
     "name": "stdout",
     "output_type": "stream",
     "text": [
      "Extracting data\\MNIST_data\\train-labels-idx1-ubyte.gz\n",
      "Extracting data\\MNIST_data\\t10k-images-idx3-ubyte.gz\n",
      "Extracting data\\MNIST_data\\t10k-labels-idx1-ubyte.gz\n"
     ]
    }
   ],
   "source": [
    "mnist = input_data.read_data_sets(\"data\\\\MNIST_data\\\\\", one_hot=True)"
   ]
  },
  {
   "cell_type": "markdown",
   "metadata": {},
   "source": [
    "## 2.3 Setting parameters"
   ]
  },
  {
   "cell_type": "code",
   "execution_count": 3,
   "metadata": {},
   "outputs": [],
   "source": [
    "input_num = 784\n",
    "h1_num = 300\n",
    "epoch = 3000\n",
    "batch_num = 100\n",
    "lr = 0.1   #set the learn rate\n",
    "kp = 0.75    \n",
    "\n",
    "W1 = tf.Variable(tf.truncated_normal([input_num, h1_num],stddev=0.1))\n",
    "W2 = tf.Variable(tf.zeros([h1_num,10]))\n",
    "B1 = tf.Variable(tf.zeros([h1_num]))\n",
    "B2 = tf.Variable(tf.zeros([10]))\n",
    "x = tf.placeholder(tf.float32, [None, input_num])\n",
    "keep_prob = tf.placeholder(tf.float32)\n",
    "label = tf.placeholder(tf.float32, [None,10])"
   ]
  },
  {
   "cell_type": "markdown",
   "metadata": {},
   "source": [
    "## 2.4 Building model"
   ]
  },
  {
   "cell_type": "code",
   "execution_count": 4,
   "metadata": {},
   "outputs": [
    {
     "name": "stderr",
     "output_type": "stream",
     "text": [
      "W1012 19:56:11.665219  3520 deprecation.py:506] From <ipython-input-4-87cd8211f639>:3: calling dropout (from tensorflow.python.ops.nn_ops) with keep_prob is deprecated and will be removed in a future version.\n",
      "Instructions for updating:\n",
      "Please use `rate` instead of `keep_prob`. Rate should be set to `rate = 1 - keep_prob`.\n",
      "W1012 19:56:11.798788  3520 deprecation.py:506] From D:\\APPs\\Anaconda\\envs\\Jeary_lab\\lib\\site-packages\\tensorflow\\python\\training\\adagrad.py:76: calling Constant.__init__ (from tensorflow.python.ops.init_ops) with dtype is deprecated and will be removed in a future version.\n",
      "Instructions for updating:\n",
      "Call initializer instance with the dtype argument instead of passing it to the constructor\n"
     ]
    }
   ],
   "source": [
    "# Feedforward\n",
    "hidden1 = tf.nn.relu(tf.matmul(x,W1) + B1)\n",
    "hidden1_drop = tf.nn.dropout(hidden1, keep_prob)\n",
    "y = tf.nn.softmax(tf.matmul(hidden1_drop, W2) + B2)\n",
    "\n",
    "# Backforward\n",
    "cross_entropy = tf.reduce_mean(-tf.reduce_sum(label * tf.log(y), reduction_indices=[1]))\n",
    "train_step = tf.train.AdagradOptimizer(lr).minimize(cross_entropy)"
   ]
  },
  {
   "cell_type": "markdown",
   "metadata": {},
   "source": [
    "## 2.5 Create the session and train the model"
   ]
  },
  {
   "cell_type": "code",
   "execution_count": 5,
   "metadata": {},
   "outputs": [
    {
     "name": "stdout",
     "output_type": "stream",
     "text": [
      "The accuracy of the test data：97.58%\n",
      "It takes：10.58s\n"
     ]
    }
   ],
   "source": [
    "with tf.Session() as sess:\n",
    "    start = time.time()\n",
    "    tf.global_variables_initializer().run()\n",
    "    for _ in range(epoch):\n",
    "        batch_xs, batch_ys = mnist.train.next_batch(batch_num)\n",
    "        sess.run(train_step, feed_dict={x: batch_xs, label: batch_ys, keep_prob:kp})\n",
    "    stop = time.time()\n",
    "    correct_prediction = tf.equal(tf.argmax(y,1), tf.argmax(label,1))\n",
    "    accuracy = tf.reduce_mean(tf.cast(correct_prediction, tf.float32))\n",
    "    predict_acc = sess.run(accuracy, feed_dict={x: mnist.test.images, label: mnist.test.labels, keep_prob:1.0})\n",
    "    print(\"The accuracy of the test data：{:.2f}%\".format(predict_acc * 100))\n",
    "    print(\"It takes：{:.2f}s\".format(stop-start))"
   ]
  }
 ],
 "metadata": {
  "kernelspec": {
   "display_name": "Jeary_lab",
   "language": "python",
   "name": "jeary_lab"
  },
  "language_info": {
   "codemirror_mode": {
    "name": "ipython",
    "version": 3
   },
   "file_extension": ".py",
   "mimetype": "text/x-python",
   "name": "python",
   "nbconvert_exporter": "python",
   "pygments_lexer": "ipython3",
   "version": "3.6.8"
  }
 },
 "nbformat": 4,
 "nbformat_minor": 2
}
