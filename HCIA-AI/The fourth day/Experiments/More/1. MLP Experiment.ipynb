{
 "cells": [
  {
   "cell_type": "markdown",
   "metadata": {},
   "source": [
    "## 1.1 Multilayer perceptron\n",
    "* Solve XOR problem\n",
    "* Using tensorflow frame\n",
    "* Parameters Regulating"
   ]
  },
  {
   "cell_type": "code",
   "execution_count": 1,
   "metadata": {},
   "outputs": [],
   "source": [
    "import tensorflow as tf\n",
    "import numpy as np\n",
    "np.set_printoptions(suppress=True) "
   ]
  },
  {
   "cell_type": "code",
   "execution_count": 2,
   "metadata": {},
   "outputs": [],
   "source": [
    "datas = np.array([[0.0,0.0],[1.0,1.0],[0.0,1.0],[1.0,0.0]], dtype=np.float32)\n",
    "labels = np.array([[1.0],[1.0],[0.0],[0.0]], dtype=np.float32)"
   ]
  },
  {
   "cell_type": "code",
   "execution_count": 3,
   "metadata": {},
   "outputs": [
    {
     "data": {
      "text/plain": [
       "(4, 2)"
      ]
     },
     "execution_count": 3,
     "metadata": {},
     "output_type": "execute_result"
    }
   ],
   "source": [
    "datas.shape"
   ]
  },
  {
   "cell_type": "code",
   "execution_count": 4,
   "metadata": {},
   "outputs": [
    {
     "data": {
      "text/plain": [
       "(4, 1)"
      ]
     },
     "execution_count": 4,
     "metadata": {},
     "output_type": "execute_result"
    }
   ],
   "source": [
    "labels.shape"
   ]
  },
  {
   "cell_type": "markdown",
   "metadata": {},
   "source": [
    "## 1.2 Set parameters"
   ]
  },
  {
   "cell_type": "code",
   "execution_count": 5,
   "metadata": {},
   "outputs": [],
   "source": [
    "input_num = 2\n",
    "h1_num = 4\n",
    "label_num = 1\n",
    "epoch = 50\n",
    "W1 = tf.Variable(tf.truncated_normal([input_num, h1_num]))    #set weights\n",
    "W2 = tf.Variable(tf.truncated_normal([h1_num,label_num]))\n",
    "B1 = tf.Variable(tf.truncated_normal([h1_num]))    #set bias\n",
    "B2 = tf.Variable(tf.truncated_normal([label_num]))\n",
    "x  = tf.placeholder(tf.float32, [None, input_num])\n",
    "y_ = tf.placeholder(tf.float32, [None, label_num])"
   ]
  },
  {
   "cell_type": "markdown",
   "metadata": {},
   "source": [
    "## 1.3 Build model using tensorflow "
   ]
  },
  {
   "cell_type": "code",
   "execution_count": 6,
   "metadata": {},
   "outputs": [
    {
     "name": "stderr",
     "output_type": "stream",
     "text": [
      "WARNING: Logging before flag parsing goes to stderr.\n",
      "W0816 10:02:10.164040  8468 deprecation.py:323] From D:\\APPs\\Anaconda\\envs\\Jeary_lab\\lib\\site-packages\\tensorflow\\python\\ops\\nn_impl.py:180: add_dispatch_support.<locals>.wrapper (from tensorflow.python.ops.array_ops) is deprecated and will be removed in a future version.\n",
      "Instructions for updating:\n",
      "Use tf.where in 2.0, which has the same broadcast rule as np.where\n"
     ]
    }
   ],
   "source": [
    "# Feedforwad \n",
    "hidden1 = tf.sigmoid(tf.matmul(x, W1) + B1) #tf.matmul  Multiplies matrix `a` by matrix `b`, producing `a` * `b`;tf.sigmoid(x, name=None)  Computes sigmoid of `x` element-wise.\n",
    "logits = tf.matmul(hidden1, W2) + B2  #the result of output layer\n",
    "# Backforward\n",
    "loss = tf.reduce_mean(tf.nn.sigmoid_cross_entropy_with_logits(labels=y_, logits=logits))\n",
    "train_step = tf.train.AdamOptimizer(0.01).minimize(loss)   #add adam optimizer"
   ]
  },
  {
   "cell_type": "markdown",
   "metadata": {},
   "source": [
    "## 1.4 Training"
   ]
  },
  {
   "cell_type": "code",
   "execution_count": 7,
   "metadata": {},
   "outputs": [
    {
     "name": "stdout",
     "output_type": "stream",
     "text": [
      "output: \n",
      "[[ 0.42060316]\n",
      " [-0.10764068]\n",
      " [ 0.08408177]\n",
      " [ 0.18165946]]\n",
      "\n",
      "loss:\n",
      "0.69434524\n"
     ]
    }
   ],
   "source": [
    "with tf.Session() as sess:    #build the session\n",
    "    tf.global_variables_initializer().run()\n",
    "    for _ in range(epoch):\n",
    "        _, output_, loss_ = sess.run([train_step, logits, loss], feed_dict={x: datas, y_: labels})\n",
    "    print(\"output: \")\n",
    "    print(output_)\n",
    "    print(\"\\nloss:\")\n",
    "    print(loss_)"
   ]
  }
 ],
 "metadata": {
  "kernelspec": {
   "display_name": "Jeary_lab",
   "language": "python",
   "name": "jeary_lab"
  },
  "language_info": {
   "codemirror_mode": {
    "name": "ipython",
    "version": 3
   },
   "file_extension": ".py",
   "mimetype": "text/x-python",
   "name": "python",
   "nbconvert_exporter": "python",
   "pygments_lexer": "ipython3",
   "version": "3.6.8"
  }
 },
 "nbformat": 4,
 "nbformat_minor": 2
}
