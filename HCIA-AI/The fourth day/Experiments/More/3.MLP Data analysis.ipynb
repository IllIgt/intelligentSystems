{
 "cells": [
  {
   "cell_type": "markdown",
   "metadata": {},
   "source": [
    "## 3.1 MLP Data analysis\n",
    "[More data](http://archive.ics.uci.edu/ml/index.php)"
   ]
  },
  {
   "cell_type": "code",
   "execution_count": 1,
   "metadata": {},
   "outputs": [],
   "source": [
    "import numpy as np\n",
    "import tensorflow as tf\n",
    "np.set_printoptions(suppress=True)"
   ]
  },
  {
   "cell_type": "markdown",
   "metadata": {},
   "source": [
    "np.set_printoptions(suppress=True):  \n",
    "precision : int, optional， Number of digits of precision for floating point output (default 8)）  \n",
    "\n",
    "threshold : int, optional，Total number of array elements which trigger summarization rather than full repr (default 1000).）  \n",
    "\n",
    "edgeitems : int, optional，Number of array items in summary at beginning and end of each dimension (default 3)  .\n",
    "\n",
    "linewidth : int, optional，The number of characters per line for the purpose of inserting line breaks (default 75).\n",
    "\n",
    "suppress : bool, optional，Whether or not suppress printing of small floating point values using scientific notation (default False).  \n",
    "\n",
    "nanstr : str, optional，String representation of floating point not-a-number (default nan).  \n",
    "\n",
    "infstr : str, optional，String representation of floating point infinity (default inf).  \n",
    "\n",
    "np.set_printoptions(threshold=np.nan)  \n"
   ]
  },
  {
   "cell_type": "markdown",
   "metadata": {},
   "source": [
    "## 3.2 Data preprocessing"
   ]
  },
  {
   "cell_type": "code",
   "execution_count": 2,
   "metadata": {},
   "outputs": [
    {
     "name": "stdout",
     "output_type": "stream",
     "text": [
      "[['1' '1' '1' '1']\n",
      " ['1' '1' '1' '2']\n",
      " ['1' '1' '2' '1']\n",
      " ['1' '1' '2' '2']\n",
      " ['1' '2' '1' '1']\n",
      " ['1' '2' '1' '2']\n",
      " ['1' '2' '2' '1']\n",
      " ['1' '2' '2' '2']\n",
      " ['2' '1' '1' '1']\n",
      " ['2' '1' '1' '2']\n",
      " ['2' '1' '2' '1']\n",
      " ['2' '1' '2' '2']\n",
      " ['2' '2' '1' '1']\n",
      " ['2' '2' '1' '2']\n",
      " ['2' '2' '2' '1']\n",
      " ['2' '2' '2' '2']\n",
      " ['3' '1' '1' '1']\n",
      " ['3' '1' '1' '2']\n",
      " ['3' '1' '2' '1']\n",
      " ['3' '1' '2' '2']]\n"
     ]
    }
   ],
   "source": [
    "with open('data/lenses/lenses.data','r') as file:\n",
    "    datas = file.readlines()\n",
    "    X = []\n",
    "    Y = []\n",
    "    for data in datas:\n",
    "        data_list = data.split()\n",
    "        X.append(data_list[1:5])\n",
    "        Y.append(data_list[5])\n",
    "train_X, train_Y, test_X, test_Y = np.array(X[0:20]), np.array(Y[0:20]), np.array(X[20:]), np.array(Y[20:])\n",
    "print(train_X)\n",
    "#tain_X = np.array(X)\n",
    "#train_Y = np.array(Y)\n",
    "#test_X = np.array([X[3], X[7], X[15], X[23]])\n",
    "#test_Y = np.array([Y[3], Y[7], Y[15], Y[23]])\n",
    "#use the onehot to preprocess data\n",
    "def onehot(label):\n",
    "    onehot_label = []\n",
    "    for index in range(label.shape[0]):\n",
    "        onehot = np.zeros([3])\n",
    "        onehot[int(label[index])-1] = 1\n",
    "        onehot_label.append(onehot)\n",
    "    return np.array(onehot_label,dtype='float32')\n",
    "train_label = onehot(train_Y)\n",
    "test_label = onehot(test_Y)"
   ]
  },
  {
   "cell_type": "markdown",
   "metadata": {},
   "source": [
    "## 3.3 Setting parameters"
   ]
  },
  {
   "cell_type": "code",
   "execution_count": 3,
   "metadata": {},
   "outputs": [
    {
     "name": "stdout",
     "output_type": "stream",
     "text": [
      "<tf.Variable 'Variable:0' shape=(4, 64) dtype=float32_ref> <tf.Variable 'Variable_1:0' shape=(64, 32) dtype=float32_ref> <tf.Variable 'Variable_2:0' shape=(32, 3) dtype=float32_ref> <tf.Variable 'Variable_3:0' shape=(64,) dtype=float32_ref>\n"
     ]
    }
   ],
   "source": [
    "input_num = 4\n",
    "h1_num = 64\n",
    "h2_num = 32\n",
    "label_num = 3\n",
    "epoch = 300\n",
    "\n",
    "W1 = tf.Variable(tf.truncated_normal([input_num, h1_num], stddev=0.1))\n",
    "W2 = tf.Variable(tf.truncated_normal([h1_num, h2_num]))\n",
    "W3 = tf.Variable(tf.truncated_normal([h2_num,label_num]))\n",
    "B1 = tf.Variable(tf.zeros([h1_num]))\n",
    "print(W1,W2,W3,B1)\n",
    "B2 = tf.Variable(tf.zeros([h2_num]))\n",
    "B3 = tf.Variable(tf.zeros([label_num]))\n",
    "x = tf.placeholder(tf.float32, [None, input_num])\n",
    "label = tf.placeholder(tf.float32, [None,label_num])"
   ]
  },
  {
   "cell_type": "markdown",
   "metadata": {},
   "source": [
    "## 3.4 Build model"
   ]
  },
  {
   "cell_type": "code",
   "execution_count": 4,
   "metadata": {},
   "outputs": [],
   "source": [
    "# Feedforword\n",
    "hidden1 = tf.nn.relu(tf.matmul(x, W1) + B1)\n",
    "hidden2 = tf.nn.relu(tf.matmul(hidden1, W2) + B2)\n",
    "y = tf.matmul(hidden2, W3) + B3\n",
    "# Backforword\n",
    "cross_entropy = tf.nn.softmax_cross_entropy_with_logits_v2(logits=y, labels=label)\n",
    "train_step = tf.train.AdamOptimizer(0.0001).minimize(cross_entropy)"
   ]
  },
  {
   "cell_type": "markdown",
   "metadata": {},
   "source": [
    "## 3.5 Train and Test"
   ]
  },
  {
   "cell_type": "code",
   "execution_count": 5,
   "metadata": {},
   "outputs": [
    {
     "name": "stdout",
     "output_type": "stream",
     "text": [
      "The accuracy of the test data：75.00%\n"
     ]
    }
   ],
   "source": [
    "with tf.Session() as sess:\n",
    "    # Train\n",
    "    tf.global_variables_initializer().run()\n",
    "    for _ in range(epoch):\n",
    "        sess.run(train_step, feed_dict={x: train_X, label: train_label})\n",
    "    # Test\n",
    "    correct_prediction = tf.equal(tf.argmax(y,1), tf.argmax(label,1))\n",
    "    accuracy = tf.reduce_mean(tf.cast(correct_prediction, tf.float32))\n",
    "    predict_acc, loss_= sess.run([accuracy, cross_entropy], feed_dict={x: test_X, label: test_label})\n",
    "    print(\"The accuracy of the test data：{:.2f}%\".format(predict_acc * 100))"
   ]
  },
  {
   "cell_type": "code",
   "execution_count": 6,
   "metadata": {},
   "outputs": [
    {
     "data": {
      "text/plain": [
       "array([0.03218256, 1.2713385 , 0.00713207, 0.03755781], dtype=float32)"
      ]
     },
     "execution_count": 6,
     "metadata": {},
     "output_type": "execute_result"
    }
   ],
   "source": [
    "loss_ "
   ]
  }
 ],
 "metadata": {
  "kernelspec": {
   "display_name": "Jeary_lab",
   "language": "python",
   "name": "jeary_lab"
  },
  "language_info": {
   "codemirror_mode": {
    "name": "ipython",
    "version": 3
   },
   "file_extension": ".py",
   "mimetype": "text/x-python",
   "name": "python",
   "nbconvert_exporter": "python",
   "pygments_lexer": "ipython3",
   "version": "3.6.8"
  }
 },
 "nbformat": 4,
 "nbformat_minor": 2
}
